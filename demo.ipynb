{
 "cells": [
  {
   "cell_type": "code",
   "execution_count": 40,
   "metadata": {},
   "outputs": [],
   "source": [
    "import requests\n",
    "import json\n",
    "import csv"
   ]
  },
  {
   "cell_type": "code",
   "execution_count": 49,
   "metadata": {},
   "outputs": [],
   "source": [
    "#this admin profile is created when the app is first launched (defined in run.py)\n",
    "user = {'username': 'administrator', 'email': 'placeholder','password': 'Admin10!', 'age': 26, 'activity_level': 2, 'gender_identity': 1}"
   ]
  },
  {
   "cell_type": "markdown",
   "metadata": {},
   "source": [
    "## Login (user and admin)"
   ]
  },
  {
   "cell_type": "code",
   "execution_count": 50,
   "metadata": {},
   "outputs": [
    {
     "output_type": "stream",
     "name": "stdout",
     "text": "Logged in as administrator. (admin)\nJSON Web Token: eyJ0eXAiOiJKV1QiLCJhbGciOiJIUz\n"
    }
   ],
   "source": [
    "r = requests.post('http://127.0.0.1:5000/login', json = user)\n",
    "data = r.json()\n",
    "try:\n",
    "    access = data['access_token']\n",
    "    refresh = data['refresh_token']\n",
    "    print(data['message'])\n",
    "    print('JSON Web Token: ' + access[:30])\n",
    "except:\n",
    "    print(data['message'])"
   ]
  },
  {
   "cell_type": "markdown",
   "metadata": {},
   "source": [
    "# AdminResources"
   ]
  },
  {
   "cell_type": "markdown",
   "metadata": {},
   "source": [
    "### User info (admin)"
   ]
  },
  {
   "cell_type": "code",
   "execution_count": 51,
   "metadata": {},
   "outputs": [],
   "source": [
    "headers = { 'Authorization' : 'Bearer ' + access}\n",
    "r = requests.post('http://127.0.0.1:5000/admin/user/info', headers=headers)\n",
    "r.json()"
   ]
  },
  {
   "cell_type": "markdown",
   "metadata": {},
   "source": [
    "### User preferences (admin)"
   ]
  },
  {
   "cell_type": "code",
   "execution_count": 52,
   "metadata": {},
   "outputs": [],
   "source": [
    "headers = { 'Authorization' : 'Bearer ' + access}\n",
    "r = requests.post('http://127.0.0.1:5000/admin/user/preferences', headers=headers)\n",
    "r.json()"
   ]
  },
  {
   "cell_type": "markdown",
   "metadata": {},
   "source": [
    "### Food data (dump) (admin)"
   ]
  },
  {
   "cell_type": "code",
   "execution_count": 53,
   "metadata": {},
   "outputs": [],
   "source": [
    "headers = { 'Authorization' : 'Bearer ' + access}\n",
    "r = requests.post('http://127.0.0.1:5000/admin/food/dump', headers=headers)\n",
    "r.json()"
   ]
  },
  {
   "cell_type": "markdown",
   "metadata": {},
   "source": [
    "### Food data (add) (admin)"
   ]
  },
  {
   "cell_type": "code",
   "execution_count": 9,
   "metadata": {},
   "outputs": [],
   "source": [
    "food = {\n",
    "'item_name' : 'juice box',\n",
    "'latitude': 44, \n",
    "'longitude': -79, \n",
    "'restaurant_name' : 'Local bar',\n",
    "'item_description' : 'This is secretly a salad.',\n",
    "'nutrition' : json.dumps({'calories':100,'sugar':50,'total_fats': 120,'sat_fats':40,'cholesterol':150,'carbohydrates':100,'protein':20, 'fiber':30,'sodium':120,'magnesium':100,'potassium':40,'calcium':12}),\n",
    "'price' : 2.30\n",
    "}"
   ]
  },
  {
   "cell_type": "code",
   "execution_count": 54,
   "metadata": {},
   "outputs": [],
   "source": [
    "headers = { 'Authorization' : 'Bearer ' + access}\n",
    "r = requests.post('http://127.0.0.1:5000/admin/food/add', headers=headers, json = food)\n",
    "r.json()"
   ]
  },
  {
   "cell_type": "markdown",
   "metadata": {},
   "source": [
    "### Food data (edit) (admin)"
   ]
  },
  {
   "cell_type": "code",
   "execution_count": 70,
   "metadata": {},
   "outputs": [],
   "source": [
    "headers = { 'Authorization' : 'Bearer ' + access}\n",
    "r = requests.post('http://127.0.0.1:5000/admin/food/edit', headers=headers, json = food)\n",
    "r.json()"
   ]
  },
  {
   "cell_type": "markdown",
   "metadata": {},
   "source": [
    "### Food data (remove) (admin)"
   ]
  },
  {
   "cell_type": "code",
   "execution_count": 55,
   "metadata": {},
   "outputs": [],
   "source": [
    "headers = { 'Authorization' : 'Bearer ' + access}\n",
    "r = requests.post('http://127.0.0.1:5000/admin/food/remove', headers=headers, json = food)\n",
    "r.json()"
   ]
  },
  {
   "cell_type": "markdown",
   "metadata": {},
   "source": [
    "### Add a new admin (admin)"
   ]
  },
  {
   "cell_type": "code",
   "execution_count": 56,
   "metadata": {},
   "outputs": [],
   "source": [
    "headers = { 'Authorization' : 'Bearer ' + access}\n",
    "r = requests.post('http://127.0.0.1:5000/admin/access', headers=headers, json = {'new_admin':'joshuadrc'})\n",
    "r.json()"
   ]
  },
  {
   "cell_type": "markdown",
   "metadata": {},
   "source": [
    "# UserResources"
   ]
  },
  {
   "cell_type": "code",
   "execution_count": 45,
   "metadata": {},
   "outputs": [],
   "source": [
    "#test user 1 is joshuadrc, age 26, inactive, male.\n",
    "user = {'username': 'joshuadrc', 'email': 'jsd42@duke.edu','password': 'Admin10!', 'age': 26, 'activity_level': 0, 'gender_identity': 1}"
   ]
  },
  {
   "cell_type": "code",
   "execution_count": 74,
   "metadata": {},
   "outputs": [],
   "source": [
    "#test user 2 is juliedrc, age 42, active, female\n",
    "user = {'username': 'juliedrc', 'email': 'joshuadrc@gmail.com','password': 'Admin10!', 'age': 42, 'activity_level': 2, 'gender_identity': 0}"
   ]
  },
  {
   "cell_type": "markdown",
   "metadata": {},
   "source": [
    "## Registration (user)"
   ]
  },
  {
   "cell_type": "code",
   "execution_count": 57,
   "metadata": {},
   "outputs": [],
   "source": [
    "#create user if not already created\n",
    "r = requests.post('http://127.0.0.1:5000/registration', json = user)\n",
    "r.json()"
   ]
  },
  {
   "cell_type": "markdown",
   "metadata": {},
   "source": [
    "## Login (user and admin)"
   ]
  },
  {
   "cell_type": "code",
   "execution_count": 58,
   "metadata": {},
   "outputs": [],
   "source": [
    "#login user\n",
    "r = requests.post('http://127.0.0.1:5000/login', json = user)\n",
    "data = r.json()\n",
    "try:\n",
    "    access = data['access_token']\n",
    "    refresh = data['refresh_token']\n",
    "    print(data['message'])\n",
    "    print('JSON Web Token: ' + access[:30])\n",
    "except:\n",
    "    print(data['message'])"
   ]
  },
  {
   "cell_type": "markdown",
   "metadata": {},
   "source": [
    "## Login Refresh (user and admin)"
   ]
  },
  {
   "cell_type": "code",
   "execution_count": 59,
   "metadata": {},
   "outputs": [],
   "source": [
    "headers = { 'Authorization' : 'Bearer ' + refresh}\n",
    "\n",
    "r = requests.post('http://127.0.0.1:5000/token/refresh', headers=headers)\n",
    "data = r.json()\n",
    "access = data['access_token']\n",
    "print(data['message'])"
   ]
  },
  {
   "cell_type": "markdown",
   "metadata": {},
   "source": [
    "## Preferences"
   ]
  },
  {
   "cell_type": "markdown",
   "metadata": {},
   "source": [
    "### Add preference"
   ]
  },
  {
   "cell_type": "code",
   "execution_count": 60,
   "metadata": {},
   "outputs": [],
   "source": [
    "headers = { 'Authorization' : 'Bearer ' + access}\n",
    "\n",
    "data = {'preference': 'juice box', \n",
    "        'preference_action': 'add'}\n",
    "\n",
    "r = requests.post('http://127.0.0.1:5000/editpreferences', json = data, headers = headers)\n",
    "r.json()"
   ]
  },
  {
   "cell_type": "markdown",
   "metadata": {},
   "source": [
    "### Remove preference"
   ]
  },
  {
   "cell_type": "code",
   "execution_count": 61,
   "metadata": {},
   "outputs": [],
   "source": [
    "headers = { 'Authorization' : 'Bearer ' + access}\n",
    "\n",
    "data = {'preference': 'juice box', \n",
    "        'preference_action': 'remove'}\n",
    "\n",
    "r = requests.post('http://127.0.0.1:5000/editpreferences', json = data, headers = headers)\n",
    "r.json()"
   ]
  },
  {
   "cell_type": "markdown",
   "metadata": {},
   "source": [
    "### List preferences"
   ]
  },
  {
   "cell_type": "code",
   "execution_count": 62,
   "metadata": {},
   "outputs": [],
   "source": [
    "headers = { 'Authorization' : 'Bearer ' + access}\n",
    "r = requests.get('http://127.0.0.1:5000/preferences', headers = headers)\n",
    "r.json()['message']"
   ]
  },
  {
   "cell_type": "markdown",
   "metadata": {},
   "source": [
    "## Recommendations"
   ]
  },
  {
   "cell_type": "code",
   "execution_count": 63,
   "metadata": {},
   "outputs": [],
   "source": [
    "headers = { 'Authorization' : 'Bearer ' + access}\n",
    "data = {'latitude': 44, 'longitude': -79, 'distance': 1000}\n",
    "\n",
    "r = requests.post('http://127.0.0.1:5000/recommendation', headers = headers, json=data)\n",
    "\n",
    "try:\n",
    "    for i in json.loads(r.json()['data']):\n",
    "        print('-----------------------------------------------------------')\n",
    "        print('Based on: ' + user['username'] + '\\'s preference for ' + i['based_on'])\n",
    "        print('-----------------------------------------------------------')\n",
    "        for item in i:\n",
    "            print(f'{item}: {i[item]} \\n')\n",
    "except: \n",
    "    print(r.json())"
   ]
  },
  {
   "cell_type": "markdown",
   "metadata": {},
   "source": [
    "## Logout"
   ]
  },
  {
   "cell_type": "code",
   "execution_count": 64,
   "metadata": {},
   "outputs": [],
   "source": [
    "headers = { 'Authorization' : 'Bearer ' + access}\n",
    "r = requests.post('http://127.0.0.1:5000/logout/access', headers = headers)\n",
    "r.json()"
   ]
  },
  {
   "cell_type": "markdown",
   "metadata": {},
   "source": [
    "# Bulk food add example"
   ]
  },
  {
   "cell_type": "code",
   "execution_count": 18,
   "metadata": {
    "tags": [
     "outputPrepend",
     "outputPrepend",
     "outputPrepend",
     "outputPrepend",
     "outputPrepend",
     "outputPrepend"
    ]
   },
   "outputs": [],
   "source": [
    "headers = { 'Authorization' : 'Bearer ' + access}\n",
    "with open('Archive/food.csv', newline='') as f:\n",
    "    reader = csv.reader(f)\n",
    "    for row in reader:\n",
    "        try:\n",
    "            a = row[0].split('|')\n",
    "            toadd = {\n",
    "                'item_name' : str(a[0]),\n",
    "                'latitude' : float(a[1]),\n",
    "                'longitude' : float(a[2]),\n",
    "                'restaurant_name' : a[3],\n",
    "                'item_description' : 'food description',\n",
    "                'price' : 1.50, \n",
    "                'nutrition': json.dumps({'calories': 200})\n",
    "            }\n",
    "\n",
    "            r = requests.post('http://127.0.0.1:5000/admin/food/add', headers = headers, json = toadd)\n",
    "        except:\n",
    "            continue"
   ]
  }
 ],
 "metadata": {
  "language_info": {
   "name": "python",
   "codemirror_mode": {
    "name": "ipython",
    "version": 3
   },
   "version": "3.8.2-final"
  },
  "orig_nbformat": 2,
  "file_extension": ".py",
  "mimetype": "text/x-python",
  "name": "python",
  "npconvert_exporter": "python",
  "pygments_lexer": "ipython3",
  "version": 3,
  "kernelspec": {
   "name": "python38264bitnutricsconda01db882d45314e07b491f24da3034f08",
   "display_name": "Python 3.8.2 64-bit ('nutrics': conda)"
  }
 },
 "nbformat": 4,
 "nbformat_minor": 2
}