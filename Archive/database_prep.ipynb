{
 "nbformat": 4,
 "nbformat_minor": 2,
 "metadata": {
  "language_info": {
   "name": "python",
   "codemirror_mode": {
    "name": "ipython",
    "version": 3
   },
   "version": "3.8.2-final"
  },
  "orig_nbformat": 2,
  "file_extension": ".py",
  "mimetype": "text/x-python",
  "name": "python",
  "npconvert_exporter": "python",
  "pygments_lexer": "ipython3",
  "version": 3,
  "kernelspec": {
   "name": "python38264bitnutricsconda01db882d45314e07b491f24da3034f08",
   "display_name": "Python 3.8.2 64-bit ('nutrics': conda)"
  }
 },
 "cells": [
  {
   "cell_type": "code",
   "execution_count": 316,
   "metadata": {},
   "outputs": [],
   "source": [
    "import pickle\n",
    "import csv\n",
    "from scipy.spatial.distance import cosine\n",
    "from Palate import Palate\n",
    "import json\n",
    "pal = Palate()"
   ]
  },
  {
   "cell_type": "markdown",
   "metadata": {},
   "source": [
    "### Create SQLlite3"
   ]
  },
  {
   "cell_type": "code",
   "execution_count": 397,
   "metadata": {},
   "outputs": [],
   "source": [
    "import sqlite3\n",
    "from sqlite3 import Error\n",
    " \n",
    " \n",
    "def create_connection(db_file):\n",
    "    conn = None\n",
    "    try:\n",
    "        conn = sqlite3.connect(db_file)\n",
    "        return conn\n",
    "    except Error as e:\n",
    "        print(e)\n",
    " \n",
    "    return conn\n",
    " \n",
    " \n",
    "def create_table(conn, create_table_sql):\n",
    "    try:\n",
    "        c = conn.cursor()\n",
    "        c.execute(create_table_sql)\n",
    "    except Error as e:\n",
    "        print(e)\n",
    "\n",
    "def create_row_DURHAM(conn, food_info):\n",
    " \n",
    "    sql = f''' INSERT INTO DURHAM(item_name, latitude, longitude, restaurant_name, item_description, price, embedding)\n",
    "              VALUES(?,?,?,?,?,?,?) '''\n",
    "\n",
    "    cur = conn.cursor()\n",
    "    cur.execute(sql, food_info)\n",
    "    return cur.lastrowid\n",
    "\n",
    "def create_user(conn, user_id, password):\n",
    " \n",
    "    sql = f''' INSERT INTO USERS(user_id, password, joined_date)\n",
    "              VALUES(?,?,?) '''\n",
    "\n",
    "    joined_date = 'todays'\n",
    "    cur = conn.cursor()\n",
    "    info = (user_id, password, joined_date)\n",
    "    cur.execute(sql, info)\n",
    "    return cur.lastrowid\n",
    "\n",
    "def add_preference(conn, user_id, accepted):\n",
    " \n",
    "    sql = f''' INSERT INTO PREFS(user_id, preferences)\n",
    "              VALUES(?,?) '''\n",
    "\n",
    "    cur = conn.cursor()\n",
    "    info = (user_id, accepted)\n",
    "    cur.execute(sql, info)\n",
    "    return cur.lastrowid"
   ]
  },
  {
   "cell_type": "code",
   "execution_count": 309,
   "metadata": {},
   "outputs": [],
   "source": [
    "# !rm 'nutrics.db'"
   ]
  },
  {
   "cell_type": "code",
   "execution_count": 325,
   "metadata": {},
   "outputs": [],
   "source": [
    "#Create database + connection\n",
    "conn = create_connection('nutrics.db')\n",
    "cursor = conn.cursor()"
   ]
  },
  {
   "cell_type": "code",
   "execution_count": 326,
   "metadata": {},
   "outputs": [
    {
     "output_type": "stream",
     "name": "stdout",
     "text": "table DURHAM already exists\n"
    }
   ],
   "source": [
    "#create durham food table with params from csv file below\n",
    "durham_food_table = \"CREATE TABLE DURHAM (item_name NOT NULL, latitude NOT NULL, longitude NOT NULL, restaurant_name NOT NULL, item_description NOT NULL, price NOT NULL, embedding NOT NULL)\"\n",
    "create_table(conn,durham_food_table)"
   ]
  },
  {
   "cell_type": "code",
   "execution_count": 327,
   "metadata": {
    "tags": [
     "outputPrepend",
     "outputPrepend",
     "outputPrepend",
     "outputPrepend",
     "outputPrepend",
     "outputPrepend",
     "outputPrepend",
     "outputPrepend",
     "outputPrepend",
     "outputPrepend",
     "outputPrepend",
     "outputPrepend",
     "outputPrepend",
     "outputPrepend",
     "outputPrepend",
     "outputPrepend",
     "outputPrepend",
     "outputPrepend",
     "outputPrepend",
     "outputPrepend",
     "outputPrepend",
     "outputPrepend",
     "outputPrepend",
     "outputPrepend",
     "outputPrepend",
     "outputPrepend",
     "outputPrepend",
     "outputPrepend"
    ]
   },
   "outputs": [
    {
     "output_type": "stream",
     "name": "stdout",
     "text": "Column names are: item_name, latitude, longitude, restaurant_name, item_description, price\n"
    }
   ],
   "source": [
    "#populate food database with contents of csv file. WILL FAIL if there are missing inputs (NOT NULL parameter)\n",
    "#csv file uses a | delimiter because some food entries use ','\n",
    "\n",
    "with open('/Users/joshuadarcy/Documents/nutrics/food.csv') as csv_file: \n",
    "    csv_reader = csv.reader(csv_file, delimiter='|')\n",
    "    line_count = 0\n",
    "    for row in csv_reader: \n",
    "        if line_count == 0:\n",
    "            print(f'Column names are: {\", \".join(row)}')\n",
    "            line_count += 1\n",
    "        else: \n",
    "            item = row[0]\n",
    "            palate = pal.palate_constructor(item)\n",
    "            jsoned = json.dumps(palate.tolist()) #SQL doesn't accept arrays so need to serialize into JSON strings\n",
    "            create_row_DURHAM(conn, row + [jsoned])"
   ]
  },
  {
   "cell_type": "code",
   "execution_count": 330,
   "metadata": {},
   "outputs": [],
   "source": [
    "#database testing\n",
    "\n",
    "#find {limit} items closest to {cur_lat, cur_lng}\n",
    "limit = 400\n",
    "cur_lat = 35.880705\n",
    "cur_lng = -78.849392\n",
    "e = cursor.execute(f'''\n",
    "SELECT rowid, embedding FROM DURHAM ORDER BY (({cur_lat}-latitude)*({cur_lat}-latitude)) + (({cur_lng} - longitude)*({cur_lng} - longitude)) ASC LIMIT {limit};\n",
    "''')\n",
    "embedded = e.fetchall()\n",
    "\n",
    "#parse and reconstruct into a list of the embeddings within a given area\n",
    "item_names = []\n",
    "vectors = []\n",
    "for vector in embedded:\n",
    "    item_names.append(vector[0])\n",
    "    loaded = json.loads(vector[1])\n",
    "    vectors.append(loaded)\n",
    "  \n",
    "\n",
    "numped = np.array(vectors)"
   ]
  },
  {
   "cell_type": "code",
   "execution_count": 332,
   "metadata": {},
   "outputs": [
    {
     "output_type": "execute_result",
     "data": {
      "text/plain": "[('Roast Beef Gyro',\n  '35.87831',\n  '-78.85005',\n  \"Arby's\",\n  'Nothing says “I am an adventurous eater and interesting person” like eating a gyro at Arby’s. Our classic thinly sliced roast beef is topped with lettuce, onions and tomatoes, cool creamy tzatziki sauce, and authentic Greek seasonings all hugged by a warm pita.',\n  '')]"
     },
     "metadata": {},
     "execution_count": 332
    }
   ],
   "source": [
    "pref = pal.palate_constructor('steak')\n",
    "\n",
    "matches = [cosine(pref, local_item) for local_item in numped]\n",
    "best_match = min(matches)\n",
    "index = matches.index(best_match)\n",
    "e = cursor.execute(f'''\n",
    "SELECT item_name, latitude, longitude, restaurant_name, item_description, price FROM DURHAM WHERE rowid = {item_names[index]};\n",
    "''')\n",
    "e.fetchall()"
   ]
  },
  {
   "cell_type": "code",
   "execution_count": 78,
   "metadata": {},
   "outputs": [],
   "source": [
    "cursor.execute('SELECT longitude FROM DURHAM')"
   ]
  },
  {
   "cell_type": "code",
   "execution_count": 370,
   "metadata": {},
   "outputs": [
    {
     "output_type": "execute_result",
     "data": {
      "text/plain": "<sqlite3.Cursor at 0x11b5fc960>"
     },
     "metadata": {},
     "execution_count": 370
    }
   ],
   "source": [
    "cursor.execute('DROP TABLE USERS')"
   ]
  },
  {
   "cell_type": "code",
   "execution_count": 371,
   "metadata": {},
   "outputs": [],
   "source": [
    "#create users table\n",
    "users_table = \"CREATE TABLE USERS (user_id NOT NULL, password NOT NULL, joined_date NOT NULL)\"\n",
    "create_table(conn,users_table)"
   ]
  },
  {
   "cell_type": "code",
   "execution_count": null,
   "metadata": {},
   "outputs": [],
   "source": []
  },
  {
   "cell_type": "code",
   "execution_count": 372,
   "metadata": {},
   "outputs": [
    {
     "output_type": "execute_result",
     "data": {
      "text/plain": "2"
     },
     "metadata": {},
     "execution_count": 372
    }
   ],
   "source": [
    "create_user(conn, 'joshuadrc', 'pass123')\n",
    "create_user(conn, 'shaina', 'pass123')"
   ]
  },
  {
   "cell_type": "code",
   "execution_count": 374,
   "metadata": {},
   "outputs": [
    {
     "output_type": "execute_result",
     "data": {
      "text/plain": "[('joshuadrc', 'pass123', 'todays'), ('shaina', 'pass123', 'todays')]"
     },
     "metadata": {},
     "execution_count": 374
    }
   ],
   "source": [
    "e = cursor.execute('SELECT * FROM USERS')\n",
    "e.fetchall()"
   ]
  },
  {
   "cell_type": "code",
   "execution_count": 410,
   "metadata": {},
   "outputs": [],
   "source": [
    "def login(username, password): \n",
    "    e = cursor.execute(f'SELECT password FROM USERS WHERE user_id = \"{user}\";').fetchone()[0]\n",
    "    if e == password: \n",
    "        return True\n",
    "    else: \n",
    "        return False\n",
    "\n",
    "def get_preferences(username): \n",
    "    "
   ]
  },
  {
   "cell_type": "code",
   "execution_count": 420,
   "metadata": {},
   "outputs": [
    {
     "output_type": "stream",
     "name": "stdout",
     "text": "[('cheeseburger with fries',), ('cheeseburger with fries',), ('cheeseburger with fries',), ('steak and beans',), ('steak and beans',), ('steak',)]\n"
    }
   ],
   "source": [
    "authenticated = login('joshuadrc', 'pass123')\n",
    "if authenticated: \n",
    "    add_preference(conn, 'joshuadrc', 'steak')\n",
    "\n",
    "#check history of preferences\n",
    "    e = cursor.execute(f'SELECT preferences FROM PREFS WHERE user_id = \"joshuadrc\";').fetchall()\n",
    "    print(e)"
   ]
  },
  {
   "cell_type": "code",
   "execution_count": 408,
   "metadata": {},
   "outputs": [
    {
     "output_type": "stream",
     "name": "stdout",
     "text": "False\n"
    }
   ],
   "source": [
    "#Handle login\n",
    "\n",
    "user = \"joshuadrc\"\n",
    "password = 'pass1234'\n",
    "\n",
    "e = cursor.execute(f'SELECT password FROM USERS WHERE user_id = \"{user}\";').fetchone()[0]\n",
    "if e == password:\n",
    "    print(True)\n",
    "else:\n",
    "    print(False)"
   ]
  },
  {
   "cell_type": "code",
   "execution_count": 393,
   "metadata": {},
   "outputs": [],
   "source": [
    "#create preferences table\n",
    "pref_table = \"CREATE TABLE PREFS (user_id NOT NULL, preferences NOT NULL)\"\n",
    "create_table(conn, pref_table)"
   ]
  },
  {
   "cell_type": "code",
   "execution_count": 404,
   "metadata": {},
   "outputs": [
    {
     "output_type": "execute_result",
     "data": {
      "text/plain": "4"
     },
     "metadata": {},
     "execution_count": 404
    }
   ],
   "source": [
    "add_preference(conn, 'shaina', 'kale salad')"
   ]
  },
  {
   "cell_type": "code",
   "execution_count": 406,
   "metadata": {},
   "outputs": [
    {
     "output_type": "execute_result",
     "data": {
      "text/plain": "[('kale salad',)]"
     },
     "metadata": {},
     "execution_count": 406
    }
   ],
   "source": [
    "e = cursor.execute(f'SELECT preferences FROM PREFS WHERE user_id = \"shaina\";').fetchall()\n",
    "e"
   ]
  },
  {
   "cell_type": "code",
   "execution_count": null,
   "metadata": {},
   "outputs": [],
   "source": []
  }
 ]
}