{
 "nbformat": 4,
 "nbformat_minor": 2,
 "metadata": {
  "language_info": {
   "name": "python",
   "codemirror_mode": {
    "name": "ipython",
    "version": 3
   },
   "version": "3.7.6-final"
  },
  "orig_nbformat": 2,
  "file_extension": ".py",
  "mimetype": "text/x-python",
  "name": "python",
  "npconvert_exporter": "python",
  "pygments_lexer": "ipython3",
  "version": 3,
  "kernelspec": {
   "name": "python3",
   "display_name": "Python 3"
  }
 },
 "cells": [
  {
   "cell_type": "code",
   "execution_count": 1,
   "metadata": {},
   "outputs": [
    {
     "ename": "ModuleNotFoundError",
     "evalue": "No module named 'matplotlib'",
     "output_type": "error",
     "traceback": [
      "\u001b[0;31m---------------------------------------------------------------------------\u001b[0m",
      "\u001b[0;31mModuleNotFoundError\u001b[0m                       Traceback (most recent call last)",
      "\u001b[0;32m<ipython-input-1-a0d2faabd9e9>\u001b[0m in \u001b[0;36m<module>\u001b[0;34m\u001b[0m\n\u001b[0;32m----> 1\u001b[0;31m \u001b[0;32mimport\u001b[0m \u001b[0mmatplotlib\u001b[0m\u001b[0;34m.\u001b[0m\u001b[0mpyplot\u001b[0m \u001b[0;32mas\u001b[0m \u001b[0mplt\u001b[0m\u001b[0;34m\u001b[0m\u001b[0;34m\u001b[0m\u001b[0m\n\u001b[0m",
      "\u001b[0;31mModuleNotFoundError\u001b[0m: No module named 'matplotlib'"
     ]
    }
   ],
   "source": [
    "import matplotlib.pyplot as plt"
   ]
  },
  {
   "cell_type": "code",
   "execution_count": 18,
   "metadata": {},
   "outputs": [],
   "source": [
    "from Palate import Palate"
   ]
  },
  {
   "cell_type": "code",
   "execution_count": 19,
   "metadata": {},
   "outputs": [],
   "source": [
    "Pal = Palate()"
   ]
  },
  {
   "cell_type": "code",
   "execution_count": 21,
   "metadata": {},
   "outputs": [
    {
     "data": {
      "text/plain": "'[{\"smoky\": 0.2973913550376892, \"umami\": 0.289794921875, \"cheesy\": 0.2916966378688812, \"creamy\": 0.41626811027526855, \"buttery\": 0.4566948413848877, \"caramel\": 0.34261801838874817, \"starch\": 0.22369487583637238, \"bread\": 0.3873338997364044, \"nutty\": 0.20636086165905, \"roasted\": 0.4972361624240875, \"spicy\": 0.5014644265174866, \"sweet\": 0.2575449049472809, \"vanilla\": 0.18898800015449524, \"sour\": 0.1846352070569992, \"citrus\": 0.18396207690238953, \"fruity\": 0.3049545884132385, \"floral\": 0.12270752340555191, \"tomato\": 0.3742256164550781, \"vegetable\": 0.2831152081489563, \"earthy\": 0.22688598930835724, \"woody\": 0.23398417234420776, \"cool\": 0.17106685042381287, \"garlic\": 0.3723054528236389, \"coffee\": 0.2605779469013214, \"chocolate\": 0.33159515261650085, \"herb\": 0.21801023185253143, \"fresh\": 0.2068803757429123, \"salty\": 0.3548163175582886, \"heat\": 0.17087046802043915, \"peppery\": 0.39350250363349915, \"pungent\": 0.19436830282211304, \"bitter\": 0.12337759882211685, \"grilled\": 0.4959854483604431, \"fried\": 0.5350443124771118, \"meat\": 0.5724613666534424}]'"
     },
     "execution_count": 21,
     "metadata": {},
     "output_type": "execute_result"
    }
   ],
   "source": [
    "Pal.palate_constructor('steak')"
   ]
  },
  {
   "cell_type": "code",
   "execution_count": 14,
   "metadata": {},
   "outputs": [],
   "source": [
    "from Nutrition import Nutrients"
   ]
  },
  {
   "cell_type": "code",
   "execution_count": 15,
   "metadata": {},
   "outputs": [],
   "source": [
    "nutri = Nutrients()"
   ]
  },
  {
   "cell_type": "code",
   "execution_count": 16,
   "metadata": {},
   "outputs": [
    {
     "data": {
      "text/plain": "'[{\"food_name\": \"side salad\", \"carbohydrates\": 6.38, \"sugar\": 3.01, \"total_fats\": 12.52, \"sat_fats\": 3.07, \"protein\": 3.75, \"fiber\": 2.79, \"calories\": 147.98, \"cholesterol\": 9.32, \"potassium\": 353.08, \"sodium\": 175.96, \"calcium\": 108.0, \"magnesium\": 21.0}, {\"food_name\": \"steak\", \"carbohydrates\": 0.0, \"sugar\": 0.0, \"total_fats\": 21.0, \"sat_fats\": 9.0, \"protein\": 26.0, \"fiber\": 0.0, \"calories\": 300.0, \"cholesterol\": 75.0, \"potassium\": 0.0, \"sodium\": 180.0, \"calcium\": 40.0, \"magnesium\": 20.0}, {\"food_name\": \"beans\", \"carbohydrates\": 53.7, \"sugar\": 20.22, \"total_fats\": 0.94, \"sat_fats\": 0.18, \"protein\": 12.07, \"fiber\": 10.41, \"calories\": 238.76, \"cholesterol\": 0.0, \"potassium\": 568.96, \"sodium\": 871.22, \"calcium\": 86.0, \"magnesium\": 68.0}, {\"food_name\": \"salad\", \"carbohydrates\": 4.21, \"sugar\": 1.83, \"total_fats\": 0.2, \"sat_fats\": 0.03, \"protein\": 1.23, \"fiber\": 1.66, \"calories\": 19.99, \"cholesterol\": 0.0, \"potassium\": 241.4, \"sodium\": 31.33, \"calcium\": 37.0, \"magnesium\": 19.0}]'"
     },
     "execution_count": 16,
     "metadata": {},
     "output_type": "execute_result"
    }
   ],
   "source": [
    "nutri.fast_filter('steak and beans with side salad')"
   ]
  },
  {
   "cell_type": "code",
   "execution_count": 13,
   "metadata": {},
   "outputs": [
    {
     "data": {
      "text/plain": "'{\"food_name\": \"steak salad\", \"carbohydrates\": 13.43, \"sugar\": 8.7, \"total_fats\": 34.14, \"sat_fats\": 11.79, \"protein\": 28.39, \"fiber\": 1.5, \"calories\": 470.98, \"cholesterol\": 85.9, \"potassium\": 644.7, \"sodium\": 988.84, \"calcium\": 198.0, \"magnesium\": 46.0}'"
     },
     "execution_count": 13,
     "metadata": {},
     "output_type": "execute_result"
    }
   ],
   "source": [
    "nutri.best_NLP_guess('steak and beans with side salad')"
   ]
  },
  {
   "cell_type": "code",
   "execution_count": 14,
   "metadata": {},
   "outputs": [],
   "source": [
    "import json"
   ]
  },
  {
   "cell_type": "code",
   "execution_count": 22,
   "metadata": {},
   "outputs": [
    {
     "data": {
      "text/plain": "{'food_name': 'kale',\n 'carbohydrates': 7.32,\n 'sugar': 1.63,\n 'total_fats': 0.52,\n 'sat_fats': 0.07,\n 'protein': 2.47,\n 'fiber': 2.6,\n 'calories': 36.4,\n 'cholesterol': 0.0,\n 'potassium': 296.4,\n 'sodium': 29.9,\n 'calcium': 93.0,\n 'magnesium': 23.0}"
     },
     "execution_count": 22,
     "metadata": {},
     "output_type": "execute_result"
    }
   ],
   "source": [
    "json.loads(stea)[0]"
   ]
  },
  {
   "cell_type": "code",
   "execution_count": null,
   "metadata": {},
   "outputs": [],
   "source": []
  }
 ]
}